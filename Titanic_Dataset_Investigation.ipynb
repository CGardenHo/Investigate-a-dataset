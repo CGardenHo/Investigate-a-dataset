{
 "cells": [
  {
   "cell_type": "markdown",
   "metadata": {},
   "source": [
    "# 1. 介绍\n",
    "对于这个项目，我们被要求选择一个数据集，并使用数据回答我们选择的问题。 我选择了泰坦尼克号的数据集，查看泰坦尼克号上的乘客样本的特征，包括他们是否存活，性别，年龄，兄弟姐妹/配偶，父母和孩子，票价（票价），登船港口等。\n",
    "\n",
    "查看数据集的内容后，我对下列的问题有疑问：\n",
    "     \n",
    "        * 乘客的个人统计是否影响了他们的幸存存可能性？ \n",
    "              \n",
    "              影响的因数：\n",
    "                - 年龄\n",
    "                - 儿童或成人\n",
    "                - 性别\n",
    "                \n",
    "        * 乘客乘坐所在的甲板及舱位（1类舱位、2类舱位、3类舱位）否影响了他们的幸存存可能性？ \n",
    "        \n",
    "              影响的因数：\n",
    "                - 舱位类别 （乘客在Titanic的区域）\n",
    "                - 乘客具体的位置\n",
    "               \n",
    "        * 乘客的目的地是哪里？ 其舱位或者其所在的区域与大多数乘客的目的地有什么关系？\n",
    "        \n",
    "                影响的因数：\n",
    "                - 乘客的目的地\n",
    "                - 乘客具体的位置\n",
    "                - 舱位类别 （乘客在Titanic的区域）\n",
    "                \n",
    "         * 乘客是否有家庭？这个因素是否影响他们的幸存?\n",
    "         \n",
    "                影响的因数：\n",
    "                - 是否有兄弟、姐妹？               \n",
    "                - 是否有父母？\n",
    "              \n",
    "    "
   ]
  },
  {
   "cell_type": "markdown",
   "metadata": {},
   "source": [
    "# 2. 建立报告\n",
    "为了便于对数据进行分析和汇总，使用ipython notebook.  这里将会使用numpy, pandas, matplotlib.pyplot 和 seaborn python的几个模块。下面将会导入这些模块。"
   ]
  },
  {
   "cell_type": "code",
   "execution_count": 2,
   "metadata": {
    "collapsed": true
   },
   "outputs": [],
   "source": [
    "# 为这个项目导入需要的库\n",
    "import numpy as np\n",
    "import pandas as pd\n",
    "import matplotlib.pyplot as plt\n",
    "import seaborn as sns\n",
    "sns.set(style=\"whitegrid\")\n",
    "%matplotlib inline\n",
    "\n",
    "#导入数据文件\n",
    "dTitanic_DF = pd.read_csv('titanic-data.csv')\n",
    "\n",
    "#去掉统计分析无关的列\n",
    "dTitanic_DF = dTitanic_DF.drop([\"Name\", \"Ticket\"], axis = 1)\n",
    "\n",
    "# 导入附加的可视化代码visuals.py\n",
    "#import visuals as vs\n"
   ]
  },
  {
   "cell_type": "markdown",
   "metadata": {},
   "source": [
    "## 2.1数据的清洗（删除两列-“Name”、“Ticket\"）\n",
    "\n",
    "删除“Name\"和”Ticket\"两列对于乘客的幸存的预估和分析并不会产生影响。\n",
    "\n",
    "\"Name\" 这一列只是对研究个别乘客的相关问题有价值，对于这次讨论的幸存能性并没有任何帮助。\n",
    "\n",
    "“Ticket\" 这一列提供的信息只能作为参考。\n",
    "\n"
   ]
  },
  {
   "cell_type": "markdown",
   "metadata": {},
   "source": [
    "# 3.乘客的分布\n",
    "\n",
    "## 3.1乘客的数据情况汇总\n",
    "\n",
    "检查完这次报告的数据文件，其内容并不很完整。必须要考虑到最后得出的结果不能掺杂这些不完整的数据(NaN)\n",
    "\n",
    "大致情况如下：\n",
    "    - 舱位的信息有204条（完整的信息应该是819条）\n",
    "    - 年龄的信息有714条（完整的信息应该是819条）\n",
    "    - 登船的信息有889条（完整的信息应该是819条）\n",
    "    "
   ]
  },
  {
   "cell_type": "code",
   "execution_count": 3,
   "metadata": {},
   "outputs": [
    {
     "name": "stdout",
     "output_type": "stream",
     "text": [
      "<class 'pandas.core.frame.DataFrame'>\n",
      "RangeIndex: 891 entries, 0 to 890\n",
      "Data columns (total 10 columns):\n",
      "PassengerId    891 non-null int64\n",
      "Survived       891 non-null int64\n",
      "Pclass         891 non-null int64\n",
      "Sex            891 non-null object\n",
      "Age            714 non-null float64\n",
      "SibSp          891 non-null int64\n",
      "Parch          891 non-null int64\n",
      "Fare           891 non-null float64\n",
      "Cabin          204 non-null object\n",
      "Embarked       889 non-null object\n",
      "dtypes: float64(2), int64(5), object(3)\n",
      "memory usage: 69.7+ KB\n"
     ]
    },
    {
     "data": {
      "text/html": [
       "<div>\n",
       "<style>\n",
       "    .dataframe thead tr:only-child th {\n",
       "        text-align: right;\n",
       "    }\n",
       "\n",
       "    .dataframe thead th {\n",
       "        text-align: left;\n",
       "    }\n",
       "\n",
       "    .dataframe tbody tr th {\n",
       "        vertical-align: top;\n",
       "    }\n",
       "</style>\n",
       "<table border=\"1\" class=\"dataframe\">\n",
       "  <thead>\n",
       "    <tr style=\"text-align: right;\">\n",
       "      <th></th>\n",
       "      <th>PassengerId</th>\n",
       "      <th>Survived</th>\n",
       "      <th>Pclass</th>\n",
       "      <th>Age</th>\n",
       "      <th>SibSp</th>\n",
       "      <th>Parch</th>\n",
       "      <th>Fare</th>\n",
       "    </tr>\n",
       "  </thead>\n",
       "  <tbody>\n",
       "    <tr>\n",
       "      <th>count</th>\n",
       "      <td>891.000000</td>\n",
       "      <td>891.000000</td>\n",
       "      <td>891.000000</td>\n",
       "      <td>714.000000</td>\n",
       "      <td>891.000000</td>\n",
       "      <td>891.000000</td>\n",
       "      <td>891.000000</td>\n",
       "    </tr>\n",
       "    <tr>\n",
       "      <th>mean</th>\n",
       "      <td>446.000000</td>\n",
       "      <td>0.383838</td>\n",
       "      <td>2.308642</td>\n",
       "      <td>29.699118</td>\n",
       "      <td>0.523008</td>\n",
       "      <td>0.381594</td>\n",
       "      <td>32.204208</td>\n",
       "    </tr>\n",
       "    <tr>\n",
       "      <th>std</th>\n",
       "      <td>257.353842</td>\n",
       "      <td>0.486592</td>\n",
       "      <td>0.836071</td>\n",
       "      <td>14.526497</td>\n",
       "      <td>1.102743</td>\n",
       "      <td>0.806057</td>\n",
       "      <td>49.693429</td>\n",
       "    </tr>\n",
       "    <tr>\n",
       "      <th>min</th>\n",
       "      <td>1.000000</td>\n",
       "      <td>0.000000</td>\n",
       "      <td>1.000000</td>\n",
       "      <td>0.420000</td>\n",
       "      <td>0.000000</td>\n",
       "      <td>0.000000</td>\n",
       "      <td>0.000000</td>\n",
       "    </tr>\n",
       "    <tr>\n",
       "      <th>25%</th>\n",
       "      <td>223.500000</td>\n",
       "      <td>0.000000</td>\n",
       "      <td>2.000000</td>\n",
       "      <td>20.125000</td>\n",
       "      <td>0.000000</td>\n",
       "      <td>0.000000</td>\n",
       "      <td>7.910400</td>\n",
       "    </tr>\n",
       "    <tr>\n",
       "      <th>50%</th>\n",
       "      <td>446.000000</td>\n",
       "      <td>0.000000</td>\n",
       "      <td>3.000000</td>\n",
       "      <td>28.000000</td>\n",
       "      <td>0.000000</td>\n",
       "      <td>0.000000</td>\n",
       "      <td>14.454200</td>\n",
       "    </tr>\n",
       "    <tr>\n",
       "      <th>75%</th>\n",
       "      <td>668.500000</td>\n",
       "      <td>1.000000</td>\n",
       "      <td>3.000000</td>\n",
       "      <td>38.000000</td>\n",
       "      <td>1.000000</td>\n",
       "      <td>0.000000</td>\n",
       "      <td>31.000000</td>\n",
       "    </tr>\n",
       "    <tr>\n",
       "      <th>max</th>\n",
       "      <td>891.000000</td>\n",
       "      <td>1.000000</td>\n",
       "      <td>3.000000</td>\n",
       "      <td>80.000000</td>\n",
       "      <td>8.000000</td>\n",
       "      <td>6.000000</td>\n",
       "      <td>512.329200</td>\n",
       "    </tr>\n",
       "  </tbody>\n",
       "</table>\n",
       "</div>"
      ],
      "text/plain": [
       "       PassengerId    Survived      Pclass         Age       SibSp  \\\n",
       "count   891.000000  891.000000  891.000000  714.000000  891.000000   \n",
       "mean    446.000000    0.383838    2.308642   29.699118    0.523008   \n",
       "std     257.353842    0.486592    0.836071   14.526497    1.102743   \n",
       "min       1.000000    0.000000    1.000000    0.420000    0.000000   \n",
       "25%     223.500000    0.000000    2.000000   20.125000    0.000000   \n",
       "50%     446.000000    0.000000    3.000000   28.000000    0.000000   \n",
       "75%     668.500000    1.000000    3.000000   38.000000    1.000000   \n",
       "max     891.000000    1.000000    3.000000   80.000000    8.000000   \n",
       "\n",
       "            Parch        Fare  \n",
       "count  891.000000  891.000000  \n",
       "mean     0.381594   32.204208  \n",
       "std      0.806057   49.693429  \n",
       "min      0.000000    0.000000  \n",
       "25%      0.000000    7.910400  \n",
       "50%      0.000000   14.454200  \n",
       "75%      0.000000   31.000000  \n",
       "max      6.000000  512.329200  "
      ]
     },
     "execution_count": 3,
     "metadata": {},
     "output_type": "execute_result"
    }
   ],
   "source": [
    "# 数据概况\n",
    "dTitanic_DF.info()\n",
    "dTitanic_DF.describe()"
   ]
  },
  {
   "cell_type": "markdown",
   "metadata": {},
   "source": [
    "## 3.2乘客性别的概率分布情况\n",
    "\n",
    "乘客性别的分布是一个很重要的考虑因素。一般认定是，海事的紧急情况处理有女士和小孩优先的法则。就是如果有沉船事件的发生，女士和小孩优先上救生船，女士和小孩优先救护到安全地点。因此男生应该是多数的遇难者。\n"
   ]
  },
  {
   "cell_type": "code",
   "execution_count": 4,
   "metadata": {
    "collapsed": true
   },
   "outputs": [],
   "source": [
    "#先看一下Titanic上男女生的比例是多少\n",
    "menData = dTitanic_DF[dTitanic_DF.Sex == 'male']\n",
    "womenData = dTitanic_DF[dTitanic_DF.Sex == 'female']"
   ]
  },
  {
   "cell_type": "markdown",
   "metadata": {},
   "source": [
    "### 3.2.1数据结构：铁达尼号的数据以性别来分类，分为男生的数据和女生的数据\n",
    "\n",
    "从铁达尼号的数据中提取相应的数据，男生的数据和女生的数据分别对待，建立相应的数据结构。\n",
    "\n",
    "以性别对数据进行归类和整理，就可以更深入地对男生和女生的数据进行挖掘。对于相应的数据，可以继续对其年龄提取数据，根据提取的数据判断该乘客是小孩或者是其从此次沉船事件中幸存。\n"
   ]
  },
  {
   "cell_type": "markdown",
   "metadata": {},
   "source": [
    "### 3.2.2性别分布情况\n"
   ]
  },
  {
   "cell_type": "code",
   "execution_count": 5,
   "metadata": {},
   "outputs": [
    {
     "name": "stdout",
     "output_type": "stream",
     "text": [
      "Males: \n",
      "577\n",
      "\n",
      "Females: \n",
      "314\n"
     ]
    },
    {
     "data": {
      "text/plain": [
       "<seaborn.axisgrid.FacetGrid at 0x49a89e8>"
      ]
     },
     "execution_count": 5,
     "metadata": {},
     "output_type": "execute_result"
    },
    {
     "data": {
      "image/png": "[encoded data removed]",
      "text/plain": [
       "<matplotlib.figure.Figure at 0xcae0c50>"
      ]
     },
     "metadata": {},
     "output_type": "display_data"
    }
   ],
   "source": [
    "#显示男生和女生的人数\n",
    "print(\"Males: \")\n",
    "print(menData.count()['Sex'])\n",
    "\n",
    "print (\"\")\n",
    "print (\"Females: \")\n",
    "print (womenData.count()['Sex'])\n",
    "\n",
    "#数据图形化\n",
    "gSSC = sns.factorplot('Sex', data=dTitanic_DF, kind='count')\n",
    "gSSC.despine(left=True)\n",
    "gSSC.set_ylabels(\"count of passengers\")"
   ]
  },
  {
   "cell_type": "markdown",
   "metadata": {},
   "source": [
    "根据上面的图表，可以看出，男生的数量比女生的数量多的多"
   ]
  },
  {
   "cell_type": "markdown",
   "metadata": {},
   "source": [
    "### 3.2.3对性别的分布进行分类\n",
    "\n",
    "深入挖掘，还应该考虑性别在每个Pclass上的分布情况。Pclass是一种根据乘客社会地位进行划分的级别，通过这个级别就可以看出在3种不同的社会经济级别中任何一种级别的性别分布情况"
   ]
  },
  {
   "cell_type": "code",
   "execution_count": 6,
   "metadata": {},
   "outputs": [
    {
     "data": {
      "text/plain": [
       "<seaborn.axisgrid.FacetGrid at 0xcaf5048>"
      ]
     },
     "execution_count": 6,
     "metadata": {},
     "output_type": "execute_result"
    },
    {
     "data": {
      "image/png": "[encoded data removed]",
      "text/plain": [
       "<matplotlib.figure.Figure at 0xcbb9470>"
      ]
     },
     "metadata": {},
     "output_type": "display_data"
    }
   ],
   "source": [
    "gGCSC = sns.factorplot('Pclass', order = [1,2,3], data = dTitanic_DF, hue='Sex', kind = 'count')\n",
    "\n",
    "gGCSC.despine(left = True)\n",
    "gGCSC.set_ylabels(\"count of passengers\")"
   ]
  },
  {
   "cell_type": "markdown",
   "metadata": {},
   "source": [
    "观察上面的数据，大部分的男生是在3等的Pclass, 女生则是平均地分布在3个级别"
   ]
  },
  {
   "cell_type": "markdown",
   "metadata": {},
   "source": [
    "## 3.3乘客年龄的分布\n",
    "\n",
    "除了考虑性别的因素外，还要看一下年龄。沉船逃生的时候，小孩也是优先登上救生船的。第一步，看一下乘客的年龄是怎样分布的。"
   ]
  },
  {
   "cell_type": "code",
   "execution_count": 7,
   "metadata": {},
   "outputs": [
    {
     "name": "stdout",
     "output_type": "stream",
     "text": [
      "Yongest Passenger: \n",
      "0.42\n",
      "\n",
      "Oldest Passenger: \n",
      "80.0\n",
      "\n",
      "Average Age of Passengers: \n",
      "29.6991176471\n"
     ]
    }
   ],
   "source": [
    "## 年轻的乘客\n",
    "print (\"Yongest Passenger: \")\n",
    "youngestPassenger = dTitanic_DF['Age'].min()\n",
    "print (youngestPassenger)\n",
    "\n",
    "print(\"\")\n",
    "\n",
    "#年老的乘客\n",
    "print (\"Oldest Passenger: \")\n",
    "oldestPassenger = dTitanic_DF['Age'].max()\n",
    "print (oldestPassenger)\n",
    "\n",
    "print (\"\")\n",
    "\n",
    "#乘客的平均年龄\n",
    "print (\"Average Age of Passengers: \")\n",
    "avgPassenger = dTitanic_DF['Age'].mean()\n",
    "print (avgPassenger)"
   ]
  },
  {
   "cell_type": "code",
   "execution_count": 8,
   "metadata": {},
   "outputs": [
    {
     "data": {
      "text/plain": [
       "<matplotlib.axes._subplots.AxesSubplot at 0xce7a908>"
      ]
     },
     "execution_count": 8,
     "metadata": {},
     "output_type": "execute_result"
    },
    {
     "data": {
      "image/png": "[encoded data removed]",
      "text/plain": [
       "<matplotlib.figure.Figure at 0xcf4d320>"
      ]
     },
     "metadata": {},
     "output_type": "display_data"
    }
   ],
   "source": [
    "#乘客年龄的分布可视化\n",
    "dTitanic_DF['Age'].hist(bins = 80)"
   ]
  },
  {
   "cell_type": "markdown",
   "metadata": {},
   "source": [
    "根据上面的数据显示的柱状图可知，乘客的年龄主要是20到35岁，这个结论是对刚计算出的平均年龄29.69岁给予了有力的支持。"
   ]
  },
  {
   "cell_type": "markdown",
   "metadata": {},
   "source": [
    "### 3.3.1对年龄的分布进行分类"
   ]
  },
  {
   "cell_type": "code",
   "execution_count": 9,
   "metadata": {},
   "outputs": [
    {
     "data": {
      "text/plain": [
       "<seaborn.axisgrid.FacetGrid at 0xdf85860>"
      ]
     },
     "execution_count": 9,
     "metadata": {},
     "output_type": "execute_result"
    },
    {
     "data": {
      "image/png": "[encoded data removed]",
      "text/plain": [
       "<matplotlib.figure.Figure at 0xce7abe0>"
      ]
     },
     "metadata": {},
     "output_type": "display_data"
    }
   ],
   "source": [
    "gCPS = sns.FacetGrid(dTitanic_DF, hue = 'Pclass', aspect = 4 , hue_order = [1,2,3])\n",
    "gCPS.map(sns.kdeplot, 'Age', shade = True)\n",
    "\n",
    "gCPS.set(xlim=(0,oldestPassenger))\n",
    "gCPS.set(ylim=(0,0.04))\n",
    "\n",
    "gCPS.add_legend()"
   ]
  },
  {
   "cell_type": "markdown",
   "metadata": {},
   "source": [
    "#### 3.3.1.1成人和小孩（小孩< 21岁）\n",
    "\n",
    "Source: http://www.jstor.org/stable/844549?seq=1#page_scan_tab_contents\n",
    "    \n",
    "    \n",
    "> A Child is Regarded, in common parlance, as a person under the age of twenty-one years.  In the eyes of the common law, all persons were esteemed infants until they attained this age.\n",
    "\n",
    "--Co. Litt. 78.b; BACON ABRIDGEMENT(1832), vol.  4, Infancey and Age, A.\n",
    "\n",
    "如果要获得铁达尼号乘客年龄分布的细节，就要考虑乘客中有多少小孩和成人。因为最后成人的女生和小孩会优先登上救生船，这些人的幸存机会比较高。根据当时铁达尼号沉船时的法律，小于21岁的乘客被视为“婴儿”或者是小孩。"
   ]
  },
  {
   "cell_type": "code",
   "execution_count": 10,
   "metadata": {
    "collapsed": true
   },
   "outputs": [],
   "source": [
    "# 乘客分成三类：成人分成男生和女生；小于21岁的视为小孩\n",
    "\n",
    "def minorOrAdult(passenger):\n",
    "    age, sex = passenger\n",
    "    \n",
    "    if age < 21:\n",
    "        return 'child'\n",
    "    else:\n",
    "        return sex\n",
    "    \n",
    "# 数据集增加新的一列,标示出乘客的年龄分类（小孩、男生和女生）\n",
    "dTitanic_DF['PersonStatus'] = dTitanic_DF[['Age','Sex']].apply(minorOrAdult, axis = 1)"
   ]
  },
  {
   "cell_type": "markdown",
   "metadata": {},
   "source": [
    "### 3.3.2数据整理：增加PersonStatus列并使用函数minorOrAdult\n",
    "\n",
    "建立函数minorOrAdult, 使用此函数对乘客进行分类。为了避免替换数据集的数据，另外增加一列“PersonStatus\"来标识乘客的分类。\n",
    "乘客分成三类：成人分成男生和女生；小于21岁的视为小孩。"
   ]
  },
  {
   "cell_type": "code",
   "execution_count": 11,
   "metadata": {},
   "outputs": [
    {
     "data": {
      "text/plain": [
       "male      474\n",
       "female    237\n",
       "child     180\n",
       "Name: PersonStatus, dtype: int64"
      ]
     },
     "execution_count": 11,
     "metadata": {},
     "output_type": "execute_result"
    }
   ],
   "source": [
    "# value_counts() 用来计算每一类乘客的数量\n",
    "dTitanic_DF['PersonStatus'].value_counts()"
   ]
  },
  {
   "cell_type": "markdown",
   "metadata": {},
   "source": [
    "上面的数据显示了乘客分类后，每一组乘客的人数。这样就可以很容易对幸存率高的数据进行分析（女生和小孩优先登上救生船）"
   ]
  },
  {
   "cell_type": "markdown",
   "metadata": {},
   "source": [
    "### 3.3.3乘客中女生和小孩的分布"
   ]
  },
  {
   "cell_type": "code",
   "execution_count": 12,
   "metadata": {},
   "outputs": [
    {
     "data": {
      "text/plain": [
       "<seaborn.axisgrid.FacetGrid at 0xe2de4a8>"
      ]
     },
     "execution_count": 12,
     "metadata": {},
     "output_type": "execute_result"
    },
    {
     "data": {
      "image/png": "[encoded data removed]",
      "text/plain": [
       "<matplotlib.figure.Figure at 0xcf3cfd0>"
      ]
     },
     "metadata": {},
     "output_type": "display_data"
    }
   ],
   "source": [
    "gACPS = sns.FacetGrid(dTitanic_DF, hue = 'PersonStatus', aspect = 4, hue_order=['child', 'male', 'female'])\n",
    "gACPS.map(sns.kdeplot, 'Age', shade = True)\n",
    "\n",
    "\n",
    "gACPS.set(xlim=(0, oldestPassenger))\n",
    "gACPS.add_legend()"
   ]
  },
  {
   "cell_type": "markdown",
   "metadata": {},
   "source": [
    "上面的数据图显示，成人的乘客中，男生和女生分布基本一致。小孩的曲线分两段，第一段是初生儿到10岁，第二段是10岁到21岁。"
   ]
  },
  {
   "cell_type": "markdown",
   "metadata": {},
   "source": [
    "### 3.3.4小孩和成人的分类分布"
   ]
  },
  {
   "cell_type": "code",
   "execution_count": 13,
   "metadata": {},
   "outputs": [
    {
     "data": {
      "text/plain": [
       "<seaborn.axisgrid.FacetGrid at 0xe745208>"
      ]
     },
     "execution_count": 13,
     "metadata": {},
     "output_type": "execute_result"
    },
    {
     "data": {
      "image/png": "[encoded data removed]",
      "text/plain": [
       "<matplotlib.figure.Figure at 0xdf3b780>"
      ]
     },
     "metadata": {},
     "output_type": "display_data"
    }
   ],
   "source": [
    "gGAC = sns.factorplot('Pclass', order=[1,2,3], data = dTitanic_DF, hue = 'PersonStatus', kind = 'count', hue_order = ['child', 'male', 'female'])\n",
    "\n",
    "gGAC.despine(left = True)\n",
    "gGAC.set_ylabels(\"count of passengers\")"
   ]
  },
  {
   "cell_type": "markdown",
   "metadata": {
    "collapsed": true
   },
   "source": [
    "上面的数据图显示出每个分类里小孩和成人（男生、女生）的分布，这个分布也把乘客的社会经济阶层区分出来。Pclass 3的乘客占大多数，这个阶层的乘客是社会经济阶层里最低的，因此人数最多。\n",
    "男生的人数是每个阶层的主要组成部分，女生的人数则是相对均匀地分布在每个阶层。小孩的人数在Pclass 3的人数是最多的。"
   ]
  },
  {
   "cell_type": "markdown",
   "metadata": {},
   "source": [
    "## 3.4从舱位来看乘客的分布"
   ]
  },
  {
   "cell_type": "markdown",
   "metadata": {},
   "source": [
    "### 3.4.1数据清洗：把舱位无效的数据用函数dropna处理并把处理后的数据放置在deckLOC并建立TitanicCab_DF数据集\n",
    "\n",
    "目前舱位的数据总共是891条，实际有效的数据是204条。因此要把无效的数据剔除后，才能计算出实际使用的舱位。为了保证原数据的完整性，因此处理后的数据放置在deckLOC数据集中。（DeckLOC Cabin Column）的第一个字母加载deckLevels然后放置在TitanicCab_DF数据集。"
   ]
  },
  {
   "cell_type": "code",
   "execution_count": 39,
   "metadata": {
    "collapsed": true
   },
   "outputs": [],
   "source": [
    "# 处理无效的数据\n",
    "deckLOC = dTitanic_DF['Cabin'].dropna()\n",
    "\n",
    "deckLevels = []\n",
    "for level in deckLOC:\n",
    " deckLevels.append(level[0])\n",
    "TitanicCab_DF = pd.DataFrame(deckLevels)\n",
    "TitanicCab_DF.columns = ['Cabin']"
   ]
  },
  {
   "cell_type": "markdown",
   "metadata": {},
   "source": [
    "### 3.4.2舱位类别的乘客分布\n",
    "\n",
    "乘客乘坐在不同的甲板和舱位分别用字母A到G表示。891个乘客中有204个乘客有实际的舱位记录，通过有限的记录分布可以看一下舱位的分布对乘客幸存的机会有多大的影响。\n",
    "\n",
    "**source:**  http://www.scmp.com/infographics/article/1633333/infographic-titanic\n",
    "\n",
    "\n",
    "![GitHud](titanic.jpg)"
   ]
  },
  {
   "cell_type": "markdown",
   "metadata": {},
   "source": [
    "通过上面的分解图可以看出：一等和二等舱的乘客主要位于A,B,C,D,E甲板，比较低级的乘客位于F和G甲板。"
   ]
  },
  {
   "cell_type": "markdown",
   "metadata": {},
   "source": [
    "### 3.4.3数据清洗：去除TitanicCab_DF数据集中，舱位栏中带“T”的数据\n",
    "\n",
    "**source:** http://www.encyclopedia-titanica.org/cabins.html\n",
    "\n",
    "带“T”的舱位是头等舱，是一个名叫Mr Stephen Weart的乘客"
   ]
  },
  {
   "cell_type": "code",
   "execution_count": 15,
   "metadata": {
    "collapsed": true
   },
   "outputs": [],
   "source": [
    "#去除带“T”的数据\n",
    "TitanicCab_DF = TitanicCab_DF[TitanicCab_DF.Cabin != 'T']"
   ]
  },
  {
   "cell_type": "markdown",
   "metadata": {},
   "source": [
    "由于“T”的数据只是代表头等舱的一位乘客，去除其数据后，下面的乘客图表中将不显示此乘客的信息"
   ]
  },
  {
   "cell_type": "code",
   "execution_count": 16,
   "metadata": {},
   "outputs": [
    {
     "data": {
      "text/plain": [
       "<seaborn.axisgrid.FacetGrid at 0xe2f5c50>"
      ]
     },
     "execution_count": 16,
     "metadata": {},
     "output_type": "execute_result"
    },
    {
     "data": {
      "image/png": "[encoded data removed]",
      "text/plain": [
       "<matplotlib.figure.Figure at 0xde5e7b8>"
      ]
     },
     "metadata": {},
     "output_type": "display_data"
    }
   ],
   "source": [
    "sns.factorplot('Cabin', order = ['A','B','C','D','E','F','G'], data = TitanicCab_DF, kind = 'count')"
   ]
  },
  {
   "cell_type": "markdown",
   "metadata": {},
   "source": [
    "上面的图表显示，204为乘客中甲板B、C的乘客占了大多数。B、C的乘客多数是富豪或者是头等舱的乘客。 甲板D、E的乘客分布相对甲板B、C来说是比较中等的人数，D和E的乘客一般是一等和二等舱的乘客。 A、F和G的乘客人数就比较少了。甲板A的乘客一般是船上的工作人员，F和G的乘客是等级比较低的乘客。"
   ]
  },
  {
   "cell_type": "markdown",
   "metadata": {},
   "source": [
    "## 3.5关于下船地点的乘客分布\n",
    "\n",
    "下船地点与乘客的社会经济阶层有着密切的关系，通过下船的地点就可以看出乘客的社会阶层\n",
    "\n",
    "### 3.5.1下船地点的乘客分布及其舱位等级"
   ]
  },
  {
   "cell_type": "code",
   "execution_count": 17,
   "metadata": {},
   "outputs": [
    {
     "data": {
      "text/plain": [
       "<seaborn.axisgrid.FacetGrid at 0xdf85e10>"
      ]
     },
     "execution_count": 17,
     "metadata": {},
     "output_type": "execute_result"
    },
    {
     "data": {
      "image/png": "[encoded data removed]",
      "text/plain": [
       "<matplotlib.figure.Figure at 0xe99e048>"
      ]
     },
     "metadata": {},
     "output_type": "display_data"
    }
   ],
   "source": [
    "sns.factorplot('Embarked', order=['C','Q','S'], data=dTitanic_DF, hue='Pclass', kind='count', hue_order=[1,2,3])"
   ]
  },
  {
   "cell_type": "markdown",
   "metadata": {},
   "source": [
    "上面图表的C、Q和S分别是Cherbourg、Queenstown和Southampton。大多数的乘客是来自于Southampton,仔细研究这些乘客的数据，大部分的乘客是3等舱的。另外，2等舱的乘客比1等舱的乘客要多一些。来自Queenstown的乘客，主要是3等舱的，其他的基本没有。来自Cherbourg的乘客，1等舱和3等舱的乘客大致持平。"
   ]
  },
  {
   "cell_type": "markdown",
   "metadata": {},
   "source": [
    "### 3.5.2家庭乘客和单身乘客的分布\n",
    "\n",
    "与家人一起旅行的家庭乘客和单身的乘客在灾难来临的时候，只是考虑自己还是愿意与其他人同舟共济。\n",
    "\n",
    "\n"
   ]
  },
  {
   "cell_type": "markdown",
   "metadata": {},
   "source": [
    "### 3.5.3数据整理：增加\"Solo_or_Family\"这一列\n",
    "\n",
    "原数据集已经有两列数据显示乘客是单身还是家庭，但是不直观。这两列分别是SibSP(Siblings on board)和Parch(Parent or Children on board)。如果乘客在SibSP和Parch这两列等于“0”，那么“Alone\"就会设置成该乘客的”Solo or Family\"这一列的值，大于“0”的就设置成“Family\"。\n"
   ]
  },
  {
   "cell_type": "code",
   "execution_count": 19,
   "metadata": {},
   "outputs": [
    {
     "data": {
      "text/plain": [
       "<seaborn.axisgrid.FacetGrid at 0xf4d68d0>"
      ]
     },
     "execution_count": 19,
     "metadata": {},
     "output_type": "execute_result"
    },
    {
     "data": {
      "image/png": "[encoded data removed]",
      "text/plain": [
       "<matplotlib.figure.Figure at 0xecae160>"
      ]
     },
     "metadata": {},
     "output_type": "display_data"
    }
   ],
   "source": [
    "# 使用SibSP - Siblings on board,Parch - Parent or children on\n",
    "dTitanic_DF['Solo_or_Family'] = dTitanic_DF.SibSp + dTitanic_DF.Parch\n",
    "\n",
    "#print dTitanic_DF[Solo_or_Family]\n",
    "dTitanic_DF['Solo_or_Family'].loc[dTitanic_DF['Solo_or_Family'] > 0] = 'Family'\n",
    "dTitanic_DF['Solo_or_Family'].loc[dTitanic_DF['Solo_or_Family'] == 0] = 'Alone'\n",
    "\n",
    "#dTitanic_DF.loc[:,dTitanic_DF.loc['Solo or Family'] > 0] = 'Family'\n",
    "#dTitanic_DF.loc[:,dTitanic_DF.loc['Solo or Family'] == 0] = 'Alone'\n",
    "\n",
    "sns.factorplot('Solo_or_Family', data=dTitanic_DF, kind='count')"
   ]
  },
  {
   "cell_type": "markdown",
   "metadata": {
    "collapsed": true
   },
   "source": [
    "上面的数据显示，单身的乘客比家庭乘客的数量多得多"
   ]
  },
  {
   "cell_type": "markdown",
   "metadata": {},
   "source": [
    "# 4.幸存率的计算 - 年龄、性别、舱位等级、单身乘客和家庭乘客\n",
    "\n",
    "经过上面一系列的计算，可以开始计算乘客的幸存概率\n",
    "\n",
    "## 4.1幸存乘客和遇难乘客的比较"
   ]
  },
  {
   "cell_type": "code",
   "execution_count": 20,
   "metadata": {},
   "outputs": [
    {
     "data": {
      "text/plain": [
       "<seaborn.axisgrid.FacetGrid at 0xf57b5c0>"
      ]
     },
     "execution_count": 20,
     "metadata": {},
     "output_type": "execute_result"
    },
    {
     "data": {
      "image/png": "[encoded data removed]",
      "text/plain": [
       "<matplotlib.figure.Figure at 0xdf58b38>"
      ]
     },
     "metadata": {},
     "output_type": "display_data"
    }
   ],
   "source": [
    "#幸存乘客\n",
    "dTitanic_DF['Survivor'] = dTitanic_DF.Survived.map({0:'NO', 1:'Yes'})\n",
    "\n",
    "gSOA = sns.factorplot('Survivor', data = dTitanic_DF, kind = 'count')\n",
    "gSOA.despine(left = True)\n",
    "gSOA.set_ylabels(\"count of passengers\")"
   ]
  },
  {
   "cell_type": "markdown",
   "metadata": {},
   "source": [
    "根据上面的计算，很大一部分的乘客都遇难了。"
   ]
  },
  {
   "cell_type": "markdown",
   "metadata": {},
   "source": [
    "## 4.2幸存者的性别概率"
   ]
  },
  {
   "cell_type": "code",
   "execution_count": 21,
   "metadata": {
    "scrolled": true
   },
   "outputs": [
    {
     "name": "stdout",
     "output_type": "stream",
     "text": [
      "Men Survivalbiliy: \n",
      "0.188908145581\n",
      "Women Survivalbiliy: \n",
      "0.742038216561\n"
     ]
    },
    {
     "data": {
      "text/plain": [
       "<seaborn.axisgrid.FacetGrid at 0xf840da0>"
      ]
     },
     "execution_count": 21,
     "metadata": {},
     "output_type": "execute_result"
    },
    {
     "data": {
      "image/png": "[encoded data removed]",
      "text/plain": [
       "<matplotlib.figure.Figure at 0xf4d9400>"
      ]
     },
     "metadata": {},
     "output_type": "display_data"
    }
   ],
   "source": [
    "menProb = menData.groupby('Sex').Survived.mean()\n",
    "womenProb = womenData.groupby('Sex').Survived.mean()\n",
    "\n",
    "menPercent = menProb[0]*100\n",
    "womenPercent = womenProb[0]*100\n",
    "\n",
    "print(\"Men Survivalbiliy: \")\n",
    "print(menProb[0])\n",
    "\n",
    "print(\"Women Survivalbiliy: \")\n",
    "print(womenProb[0])\n",
    "\n",
    "gSSP = sns.factorplot(\"Sex\", \"Survived\", data = dTitanic_DF, kind = \"bar\", size = 5)\n",
    "gSSP.despine(left = True)\n",
    "gSSP.set_ylabels(\"survival probability\")"
   ]
  },
  {
   "cell_type": "markdown",
   "metadata": {},
   "source": [
    "男生和女生的幸存率有很大的差别，女生的幸存率是74%，男生的幸存率仅为19%"
   ]
  },
  {
   "cell_type": "markdown",
   "metadata": {},
   "source": [
    "## 4.3幸存者的舱位等级"
   ]
  },
  {
   "cell_type": "code",
   "execution_count": 22,
   "metadata": {},
   "outputs": [
    {
     "name": "stdout",
     "output_type": "stream",
     "text": [
      "class 1 Survivality: \n",
      "0.62962962963\n",
      "Class 2 Survivality: \n",
      "0.472826086957\n",
      "Class 3 Survivality: \n",
      "0.242362525458\n"
     ]
    },
    {
     "data": {
      "text/plain": [
       "<seaborn.axisgrid.FacetGrid at 0xf2bfba8>"
      ]
     },
     "execution_count": 22,
     "metadata": {},
     "output_type": "execute_result"
    },
    {
     "data": {
      "image/png": "[encoded data removed]",
      "text/plain": [
       "<matplotlib.figure.Figure at 0xeca2390>"
      ]
     },
     "metadata": {},
     "output_type": "display_data"
    }
   ],
   "source": [
    "#幸存者的舱位等级\n",
    "\n",
    "def define_pClassProb(dataFrameIN, numClass):\n",
    "    classEntries = dataFrameIN[dataFrameIN.Pclass == numClass]\n",
    "    sClassEntries = classEntries[classEntries.Survived == 1]\n",
    "    \n",
    "    cClassEntries = (classEntries.count(numeric_only = True)['Pclass']).astype(float)\n",
    "    sClassEntries = (sClassEntries.count(numeric_only = True)['Pclass']).astype(float)\n",
    "    \n",
    "    return(sClassEntries/cClassEntries)\n",
    "\n",
    "print (\"class 1 Survivality: \")\n",
    "print (define_pClassProb(dTitanic_DF, 1))\n",
    "\n",
    "print (\"Class 2 Survivality: \")\n",
    "print (define_pClassProb(dTitanic_DF, 2))\n",
    "\n",
    "print (\"Class 3 Survivality: \")\n",
    "print (define_pClassProb(dTitanic_DF, 3))\n",
    "\n",
    "gCS = sns.factorplot(\"Pclass\", \"Survived\", order = [1,2,3], data = dTitanic_DF, kind = \"bar\", size = 5)\n",
    "gCS.despine(left = True)\n",
    "gCS.set_ylabels(\"survival probability\")"
   ]
  },
  {
   "cell_type": "code",
   "execution_count": 23,
   "metadata": {},
   "outputs": [
    {
     "name": "stdout",
     "output_type": "stream",
     "text": [
      "Class 1 Survivality: \n",
      "0.62962962963\n",
      "Class 2 Survivality: \n",
      "0.472826086957\n",
      "Class 3 Survivality: \n",
      "0.242362525458\n"
     ]
    },
    {
     "data": {
      "text/plain": [
       "<seaborn.axisgrid.FacetGrid at 0xfc11630>"
      ]
     },
     "execution_count": 23,
     "metadata": {},
     "output_type": "execute_result"
    },
    {
     "data": {
      "image/png": "[encoded data removed]",
      "text/plain": [
       "<matplotlib.figure.Figure at 0xf6c9f60>"
      ]
     },
     "metadata": {},
     "output_type": "display_data"
    }
   ],
   "source": [
    "print(\"Class 1 Survivality: \")\n",
    "print(define_pClassProb(dTitanic_DF, 1))\n",
    "\n",
    "print(\"Class 2 Survivality: \")\n",
    "print(define_pClassProb(dTitanic_DF, 2))\n",
    "\n",
    "print(\"Class 3 Survivality: \")\n",
    "print(define_pClassProb(dTitanic_DF, 3))\n",
    "\n",
    "sns.factorplot(\"Pclass\", \"Survived\", order = [1,2,3], data = dTitanic_DF, kind = 'point')\n"
   ]
  },
  {
   "cell_type": "markdown",
   "metadata": {},
   "source": [
    "根据上面的柱状图及计算的结果，可以看出1等舱位的乘客幸存率为63%，是三种舱位中最高的。2等舱的幸存率是47%，3等舱的幸存率仅为24%，是最底的。"
   ]
  },
  {
   "cell_type": "markdown",
   "metadata": {},
   "source": [
    "   ## 4.4幸存者舱位等级及性别的概率\n",
    "   \n",
    "   现在来看一下，乘客舱位等级和性别对幸存的概率有多大的影响，看一下同一性别下的舱位等级的幸存概率是怎样的。\n",
    "   \n",
    "       "
   ]
  },
  {
   "cell_type": "code",
   "execution_count": 24,
   "metadata": {},
   "outputs": [
    {
     "name": "stdout",
     "output_type": "stream",
     "text": [
      "Class 1 Survivality(MALE): \n",
      "0.368852459016\n",
      "Class 1 Survivality(FEMALE): \n",
      "0.968085106383\n",
      "Class 2 Survivality(MALE): \n",
      "0.157407407407\n",
      "Class 2 Survivality(FEMALE): \n",
      "0.921052631579\n",
      "Class 3 Survivality(MALE): \n",
      "0.135446685879\n",
      "Class 3 Survivality(FEMALE): \n",
      "0.5\n"
     ]
    },
    {
     "data": {
      "text/plain": [
       "<seaborn.axisgrid.FacetGrid at 0xf9806d8>"
      ]
     },
     "execution_count": 24,
     "metadata": {},
     "output_type": "execute_result"
    },
    {
     "data": {
      "image/png": "[encoded data removed]",
      "text/plain": [
       "<matplotlib.figure.Figure at 0xf9805f8>"
      ]
     },
     "metadata": {},
     "output_type": "display_data"
    }
   ],
   "source": [
    "#同一性别下的舱位等级的幸存概率\n",
    "def define_pClassProbSex(dataFrameIN, numClass, sex): \n",
    "    classEntries = dataFrameIN[(dataFrameIN.Pclass == numClass)&(dTitanic_DF.Sex == sex)]\n",
    "    sClassEntries = classEntries[classEntries.Survived == 1]\n",
    "    \n",
    "    \n",
    "    cClassEntries = (classEntries.count(numeric_only = True)['Pclass']).astype(float)\n",
    "    cSClassEntries = (sClassEntries.count(numeric_only = True)['Pclass']).astype(float)\n",
    "    \n",
    "    return (cSClassEntries/cClassEntries)\n",
    "\n",
    "print(\"Class 1 Survivality(MALE): \")\n",
    "print(define_pClassProbSex(dTitanic_DF, 1, 'male'))\n",
    "\n",
    "print(\"Class 1 Survivality(FEMALE): \")\n",
    "print(define_pClassProbSex(dTitanic_DF, 1, 'female'))\n",
    "\n",
    "print(\"Class 2 Survivality(MALE): \")\n",
    "print(define_pClassProbSex(dTitanic_DF, 2, 'male'))\n",
    "\n",
    "print(\"Class 2 Survivality(FEMALE): \")\n",
    "print(define_pClassProbSex(dTitanic_DF, 2, 'female'))\n",
    "\n",
    "print(\"Class 3 Survivality(MALE): \")\n",
    "print(define_pClassProbSex(dTitanic_DF, 3, 'male'))\n",
    "\n",
    "print(\"Class 3 Survivality(FEMALE): \")\n",
    "print(define_pClassProbSex(dTitanic_DF, 3, 'female'))\n",
    "\n",
    "gGCSP = sns.factorplot(\"Pclass\",\"Survived\", order = [1,2,3], data = dTitanic_DF, hue = 'Sex', kind = 'bar')\n",
    "\n",
    "gGCSP.despine(left = True)\n",
    "gGCSP.set_ylabels(\"survival probability\")\n"
   ]
  },
  {
   "cell_type": "markdown",
   "metadata": {},
   "source": [
    "根据上面的柱状图显示，1等舱的女生幸存率几乎是100%，男生的幸存率为37%。2等舱的女生幸存率为92%，男生则是16%。3等舱的女生幸存率为60%， 男生则是13%。"
   ]
  },
  {
   "cell_type": "code",
   "execution_count": 25,
   "metadata": {},
   "outputs": [
    {
     "data": {
      "text/plain": [
       "<seaborn.axisgrid.FacetGrid at 0xfc00b70>"
      ]
     },
     "execution_count": 25,
     "metadata": {},
     "output_type": "execute_result"
    },
    {
     "data": {
      "image/png": "[encoded data removed]",
      "text/plain": [
       "<matplotlib.figure.Figure at 0xf8ff4a8>"
      ]
     },
     "metadata": {},
     "output_type": "display_data"
    }
   ],
   "source": [
    "sns.factorplot(\"Pclass\", \"Survived\", hue = 'Sex', order = [1,2,3], data = dTitanic_DF, kind = 'point')"
   ]
  },
  {
   "cell_type": "markdown",
   "metadata": {},
   "source": [
    "通过上面的点图可知，乘客关于性别在不同的舱位等级对于其幸存率有明显的不同。就1等舱和2等舱的女生而言，其幸存率的差异不大，但是到了3等舱就有显著的下降。就男生而言，各个等级的舱位的幸存率都是偏低的，这是因为女生和小孩优先登上救生船获救。出人意表的是1等舱的男生幸存率与3等舱女生幸存率大致相当。"
   ]
  },
  {
   "cell_type": "markdown",
   "metadata": {},
   "source": [
    "## 4.5幸存者的舱位与其是否大于21岁的概率\n",
    "\n",
    "根据上面的结果，可以知道性别在不同的舱位等级有着很明显的不同，尤其是1等舱的乘客。因此对于幸存者的分组在细分一下：男生、女生和小孩（任何小于21岁的乘客，不分性别）"
   ]
  },
  {
   "cell_type": "code",
   "execution_count": 26,
   "metadata": {},
   "outputs": [
    {
     "name": "stdout",
     "output_type": "stream",
     "text": [
      "PClass 1 Survival Child: \n",
      "0.809523809524\n",
      "PClass 2 Survival Child: \n",
      "0.742857142857\n",
      "PClass 3 Survival Child: \n",
      "0.314516129032\n"
     ]
    },
    {
     "data": {
      "text/plain": [
       "<seaborn.axisgrid.FacetGrid at 0x101d1f28>"
      ]
     },
     "execution_count": 26,
     "metadata": {},
     "output_type": "execute_result"
    },
    {
     "data": {
      "image/png": "[encoded data removed]",
      "text/plain": [
       "<matplotlib.figure.Figure at 0xf847dd8>"
      ]
     },
     "metadata": {},
     "output_type": "display_data"
    }
   ],
   "source": [
    "#不同等级的舱位下，小孩的幸存率\n",
    "def define_pClassChildProb(dataFrameIN, numClass):\n",
    "    \n",
    "    ChildDF = dataFrameIN[(dataFrameIN.Pclass == numClass)&(dataFrameIN.PersonStatus == 'child')]\n",
    "    ChildSurvived = dataFrameIN[(dataFrameIN.Pclass == numClass)&(dataFrameIN.PersonStatus == 'child')&(dataFrameIN.Survivor == 'Yes')]\n",
    "    \n",
    "    totalCChild = ChildDF.count()['PassengerId'].astype(float)\n",
    "    CChildSurvived = ChildSurvived.count()['PassengerId'].astype(float)\n",
    "    \n",
    "    return CChildSurvived/totalCChild\n",
    "    \n",
    "print (\"PClass 1 Survival Child: \")\n",
    "print (define_pClassChildProb(dTitanic_DF, 1))\n",
    "\n",
    "print (\"PClass 2 Survival Child: \")\n",
    "print (define_pClassChildProb(dTitanic_DF, 2))\n",
    "\n",
    "print (\"PClass 3 Survival Child: \")\n",
    "print (define_pClassChildProb(dTitanic_DF, 3))\n",
    "\n",
    "sns.factorplot(\"Pclass\", \"Survived\", hue='PersonStatus', order = [1,2,3], data = dTitanic_DF, kind = 'point')"
   ]
  },
  {
   "cell_type": "markdown",
   "metadata": {},
   "source": [
    "从上面的结果可以看出，小孩的幸存与女生的幸存率大致相当。这是因为女生和小孩优先登上救生船获救得缘故。"
   ]
  },
  {
   "cell_type": "markdown",
   "metadata": {},
   "source": [
    "## 4.6从年龄看幸存的概率\n"
   ]
  },
  {
   "cell_type": "code",
   "execution_count": 27,
   "metadata": {},
   "outputs": [
    {
     "data": {
      "text/plain": [
       "[<matplotlib.text.Text at 0x10a34780>,\n",
       " [<matplotlib.text.Text at 0x10a4cd68>, <matplotlib.text.Text at 0x10a34470>],\n",
       " <matplotlib.text.Text at 0xf6c9f98>,\n",
       " <matplotlib.text.Text at 0x10a74278>]"
      ]
     },
     "execution_count": 27,
     "metadata": {},
     "output_type": "execute_result"
    },
    {
     "data": {
      "image/png": "[encoded data removed]",
      "text/plain": [
       "<matplotlib.figure.Figure at 0x106e6c50>"
      ]
     },
     "metadata": {},
     "output_type": "display_data"
    }
   ],
   "source": [
    "#sns.lmplot('Age', 'Survived', data=dTitanic_DF)\n",
    "pSBA = sns.boxplot(data=dTitanic_DF, x='Survived', y='Age')\n",
    "pSBA.set(title='Age Distribution by Survival',\n",
    "xlabel = 'Survival',\n",
    "ylabel = 'Age Distrobution',\n",
    "xticklabels = ['Died', 'Survived'])"
   ]
  },
  {
   "cell_type": "markdown",
   "metadata": {},
   "source": [
    "通过上面的箱形图可以看出，两者的平均值大致相等。关于Died的平均值要比Survived的平均值要高一些。"
   ]
  },
  {
   "cell_type": "markdown",
   "metadata": {},
   "source": [
    "## 4.7从年龄看舱位等级和生存"
   ]
  },
  {
   "cell_type": "code",
   "execution_count": 28,
   "metadata": {},
   "outputs": [
    {
     "data": {
      "text/plain": [
       "<matplotlib.legend.Legend at 0x10711390>"
      ]
     },
     "execution_count": 28,
     "metadata": {},
     "output_type": "execute_result"
    },
    {
     "data": {
      "image/png": "[encoded data removed]",
      "text/plain": [
       "<matplotlib.figure.Figure at 0x10696828>"
      ]
     },
     "metadata": {},
     "output_type": "display_data"
    }
   ],
   "source": [
    "#sns.lmplot('Age', 'Survived',hue='Pclass', data=dTitanic_DF, hue_order=[1,2,3])\n",
    "pACSB = sns.boxplot(data = dTitanic_DF.dropna(subset = ['Age']).sort_values('Pclass'), x='Pclass', y='Age', hue='Survivor')\n",
    "pACSB.set(title='Age by Class and Survival - Box Plot', xlabel='Pclass')\n",
    "pACSB.legend(bbox_to_anchor=(1.05, .7), loc=2, title = 'Survived',borderaxespad=0.)"
   ]
  },
  {
   "cell_type": "markdown",
   "metadata": {},
   "source": [
    "通过比对每个等级的舱位的生存情况，年轻的乘客更容易生存，年纪较大的乘客比较容易遇难。"
   ]
  },
  {
   "cell_type": "markdown",
   "metadata": {},
   "source": [
    "## 4.8从年龄看性别和生存"
   ]
  },
  {
   "cell_type": "code",
   "execution_count": 29,
   "metadata": {},
   "outputs": [
    {
     "data": {
      "text/plain": [
       "<matplotlib.legend.Legend at 0x10f90be0>"
      ]
     },
     "execution_count": 29,
     "metadata": {},
     "output_type": "execute_result"
    },
    {
     "data": {
      "image/png": "[encoded data removed]",
      "text/plain": [
       "<matplotlib.figure.Figure at 0x10ca5a58>"
      ]
     },
     "metadata": {},
     "output_type": "display_data"
    }
   ],
   "source": [
    "#sns.lmplot('Age', 'Survived', hue='Sex' ,data=dTitanic_DF)\n",
    "pAGSB = sns.boxplot(data=dTitanic_DF.dropna(subset = ['Age']), x= 'Sex', y= 'Age', hue='Survivor')\n",
    "pAGSB.set(title='Age by Gender and Survival - Box Plot')\n",
    "pAGSB.legend(bbox_to_anchor=(1.05, .7), loc=2, title = 'Survived',borderaxespad=0.)"
   ]
  },
  {
   "cell_type": "markdown",
   "metadata": {},
   "source": [
    "通过上面的比较可以看出，年轻男生的生存机会比年纪大的要大，女生则是相反，年纪大的生存机会反而大。"
   ]
  },
  {
   "cell_type": "markdown",
   "metadata": {},
   "source": [
    "## 4.9基于单身和家庭的乘客幸存的概率"
   ]
  },
  {
   "cell_type": "code",
   "execution_count": 34,
   "metadata": {},
   "outputs": [
    {
     "name": "stdout",
     "output_type": "stream",
     "text": [
      "Probability of Survival being with Family: \n",
      "0.505649717514\n",
      "\n",
      "Probability of Survival being alone: \n",
      "0.303538175047\n"
     ]
    },
    {
     "data": {
      "text/plain": [
       "<seaborn.axisgrid.FacetGrid at 0x1165d588>"
      ]
     },
     "execution_count": 34,
     "metadata": {},
     "output_type": "execute_result"
    },
    {
     "data": {
      "image/png": "[encoded data removed]",
      "text/plain": [
       "<matplotlib.figure.Figure at 0x10a59550>"
      ]
     },
     "metadata": {},
     "output_type": "display_data"
    }
   ],
   "source": [
    "familyPass = dTitanic_DF[dTitanic_DF['Solo_or_Family'] == \"Family\"]\n",
    "alonePass = dTitanic_DF[dTitanic_DF['Solo_or_Family'] == \"Alone\"]\n",
    "# 建立单身乘客和家庭乘客的列表\n",
    "AFamilyPass = familyPass[familyPass.Survivor == \"Yes\"]\n",
    "AAlonePass = alonePass[alonePass.Survivor == \"Yes\"]\n",
    "\n",
    "#计算概率\n",
    "pAF = float(AFamilyPass['Solo_or_Family'].count()) / float(familyPass['Solo_or_Family'].count())\n",
    "pAA = float(AAlonePass['Solo_or_Family'].count()) / float(alonePass['Solo_or_Family'].count())\n",
    "print(\"Probability of Survival being with Family: \")\n",
    "print(pAF)\n",
    "print(\"\")\n",
    "print(\"Probability of Survival being alone: \")\n",
    "print(pAA)\n",
    "gSSP = sns.factorplot(\"Solo_or_Family\", \"Survived\", data=dTitanic_DF, kind=\"bar\", size=5)\n",
    "gSSP.despine(left=True)\n",
    "gSSP.set_ylabels(\"survival probability\")"
   ]
  },
  {
   "cell_type": "markdown",
   "metadata": {},
   "source": [
    "上面的图表显示，家庭乘客的幸存率是50%，单身乘客的幸存率是30%"
   ]
  },
  {
   "cell_type": "markdown",
   "metadata": {},
   "source": [
    "# 5. 总结\n",
    "\n",
    "在查看乘客数据时，我们可以看到我们可以根据年龄将其划分为特定的组（小孩和成人年龄组），性别，下船城市，舱位等级等分类。 当把乘客分成这些小组时，我们可以根据每个组的统计数字和乘客匹配的组合，调查乘客幸存的情况。'<从年龄看性别和生存>'"
   ]
  },
  {
   "cell_type": "markdown",
   "metadata": {},
   "source": [
    "## 5.1数据清洗/整理汇总\n",
    "\n",
    "* [2.1数据的清洗（删除两列-“Name”、“Ticket\"）](#2.1数据的清洗（删除两列-“Name”、“Ticket\"）)\n",
    "\n",
    "* [3.2.1数据结构：铁达尼号的数据以性别来分类，分为男生的数据和女生的数据](#3.2.1数据结构：铁达尼号的数据以性别来分类，分为男生的数据和女生的数据)\n",
    "    \n",
    "* [3.3.2数据整理： 增加PersonStatus列并使用函数minorOrAdult](#3.3.2数据整理：增加PersonStatus列并使用函数minorOrAdult)\n",
    "\n",
    "* [3.4.1数据清洗： 把舱位无效的数据用函数dropna处理并把处理后的数据放置在deckLOC并建立TitanicCab_DF数据集](#3.4.1数据清洗：把舱位无效的数据用函数dropna处理并把处理后的数据放置在deckLOC并建立TitanicCab_DF数据集)\n",
    "\n",
    "* [3.4.3数据清洗：去除 TitanicCab_DF数据集中，舱位栏中带“T”的数据](#3.4.3数据清洗：去除TitanicCab_DF数据集中，舱位栏中带“T”的数据)\n",
    "\n",
    "* [3.5.3数据整理：增加\"Solo or Family\"这一列](#3.5.3数据整理：增加\"Solo_or_Family\"这一列)"
   ]
  },
  {
   "cell_type": "markdown",
   "metadata": {},
   "source": [
    "## 5.2分析的限制\n",
    "\n",
    "由于大多数观察结果都是由所提供的数据集来判断的，所以我们在理解关于该事件的所有事情方面仍存在很大的差距，并且有可能关注所提供的内容并且忘记了可能存在其他数据集未涵盖的因素也可能影响事件发生的原因。仔细观察后，将尝试检查哪些带有限制条件的结论需要被重新考虑。\n",
    "\n",
    "### 5.2.1数据集的无效数据（乘客的信息并不完整，有些栏位的信息是缺失的）\n",
    "\n",
    "从一开始得到的数据集，其信息就不是很完整。例如年龄就只有714条信息，舱位的信息就只有204条，登船信息只有889条。乘客的总人数是891人。这种信息的缺少会对一些特定的栏位的分析和计算带来影响，如产生的曲线因为信息量不够导致其生成的曲线不是太平滑。\n",
    "\n",
    "根据“舱位”（“Cabin”）这个栏位，可以观察一下[“3.4.2舱位类别的乘客分布”](#3.4.2舱位类别的乘客分布)的图表，204条信息里记录了甲板B,C,D,E的乘客，这些乘客分布在1等、2等舱。根据这些信息，深入地研究1等舱和2等舱的乘客，生成更加精确的图表[“3.2.3对性别的分布进行分类”](#3.2.3对性别的分布进行分类)。从图表中可以看出有许多3等舱的乘客的信息在图中是缺失的。\n",
    "\n",
    "对“年龄”（“Age”)这个栏位，891位乘客里，我们只有714条信息，还差177条信息才算完整。观察[”3.3乘客年龄的分布“](#3.3乘客年龄的分布)里的柱状图，横坐标分成80bins。如果加入这177条信息，一定会对其图形产生影响，甚至也会影响幸存率的计算。因为不管这177条信息里包含的年龄是年轻的还是年老的，从计算平均值方面去考虑，对于数据集的最大值和最小值都会被改变。\n",
    "\n",
    "关于“登船”（“Embarked”）的这个栏位，891乘客里，提供了889条信息。由于其差异只有不到1%，因此该栏位的信息缺失不会对其数据造成很大的影响，但是也要注意。\n",
    "\n",
    "### 5.2.2此次的分析仅限于数据统计的分析，没有对其统计数据进行测试\n",
    "这个分析是用统计计算完成的，而不是统计测试。这个项目中的许多选项只能被视为趋势观察和相关性观察。还有一点要考虑的是，在这个项目中没有一个明确的零假设，这个假设是幸存概率是本项目的一个主要重点。 这个项目并没有反驳一个特定的生存立场，只是观察不同数据点（年龄，性别，社会经济阶层）之间的相关性。\n",
    "\n",
    "统计测试的好处在于，我们可以深入研究数据中某个特定的数据点，比如乘客的性别和生存能力，因为这些数据是最多的（保留891名乘客的所有记录）。从这个给定的数据集辩论数据不足的话题是不太可能的。还要指出一个更重要的注意事项是可以假设是特别的统计测试，在数据集的各个方面之间建立一个更清晰、更重要的统计关系，涉及一个明确的拒绝或接受的零假设的置信百分比。\n",
    "\n",
    "分析一下幸存率，看一下它与性别是否是具有独立性还是不具有独立性。这部分的分析位于下面的“建议/验证-统计测试验证调查结果（性别和幸存率）”，此部分是使用方差对独立性进行测试。\n",
    "\n",
    "### 5.2.3缺少可能影响分析的可能因素\n",
    "\n",
    "需要考虑的另一点是，数据集侧重于乘客的基本方面（年龄，性别，舱位位置，社会经济阶层），但是不能将更多的主观方面带入影响乘客生存的因素。虽然我们知道有限的舱位位置，但这并不意味着所有的乘客都在泰坦尼克号撞船的时候，他们在自己的舱位内。即使船撞在冰山上的晚上，也很难假定每个人都会熟睡在他们指定的舱室里。\n",
    "\n",
    "另外一点是3等舱的女生和小孩就算在女生和小孩优先登上求生船的前提下，与2等舱的妇女和小孩的相比，其死亡率是很高的。这里会不会有其他的原因障碍这些女生和小孩登上救生船呢？会不会有一部分1等舱的男生趁着沉船时的混乱，忽略女生和小孩优先的约定，偷偷地登上救生船获救？\n",
    "\n",
    "还有一个就是这个铁达尼号本身，这个船的本身在这个逃生安全方面的设计。例如救生船有没有在这个船上的配备和分布是否合理？ 救生船的数量和其载客量在当时是否能满足逃生的要求？\n"
   ]
  },
  {
   "cell_type": "markdown",
   "metadata": {},
   "source": [
    "## 5.3乘客统计及其对幸存率的影响\n",
    "\n",
    "### 5.3.1年龄对幸存率有影响吗？ \n",
    "\n",
    "沉船的时候，年龄对幸存率有很大的影响：它可以决定一个乘客在紧急情况下的反应有多快；如果他是属于可以优先登上救生船的或者他的机动性很强，足以让他在沉船的紧急情况下转移到安全的地方。\n",
    "\n",
    "我们来看一下[4.6从年龄看幸存的概率](#4.6从年龄看幸存的概率)的这张图，幸存的年龄IQR是比较有利于年轻的乘客，就是说年轻的乘客幸存率会高一些。再看一下[4.7从年龄看舱位等级和生存](#4.7从年龄看舱位等级和生存)这张图，每个舱位等级的年龄分布，遇难的乘客IQR比较高，就是遇难乘客的年龄比幸存的乘客年龄要高，这一点和“从年龄看幸存的概率”这张图是吻合的。\n",
    "\n",
    "上述的两张图都显示，遇难的乘客年龄都偏大，幸存的乘客年龄都比较轻。\n",
    "\n",
    "### 5.3.2性别对幸存率有影响吗？\n",
    "\n",
    "性别是另外一个队幸存率有很大影响的因素。发生海难时，女生和小孩可以优先登上救生船获救，男生则要等女生和小孩都上救生船后才能登救生船获救。\n",
    "\n",
    "查看[4.8从年龄看性别和生存](#4.8从年龄看性别和生存)箱形图，男生部分的幸存机会是年轻的乘客比较高，年龄大的乘客遇难的机会比较高。女生的部分则是相反，年龄大的乘客的幸存机会比较高，年纪轻的乘客则是遇难机会比较高。\n",
    "\n",
    "当查看[4.2幸存者的性别概率](#4.2幸存者的性别概率)这张图非常显著地表示，男生整体的幸存率仅为19%，女生则是高达74%。\n",
    "\n",
    "从性别的数据里再深挖，对性别的数据内，再看看其乘客的舱位等级又是怎样分布的。[4.4幸存者舱位等级及性别的概率](#4.4幸存者舱位等级及性别的概率)非常明显的表示，女生的幸存率在每个等级的舱位都远远高于男生。\n",
    "\n",
    "### 5.3.3小孩对幸存率有影响吗？\n",
    "\n",
    "小孩因为可以优先登上救生船获救因此预计其幸存率跟女生大致相当。[4.5幸存者的舱位与其是否大于21岁的概率](#4.5幸存者的舱位与其是否大于21岁的概率)这张图可以看出，小孩的在每个等级的舱位的幸存率与女生的走向是一致的，具体的幸存率只是比女生的稍稍低一点。\n",
    "\n",
    "### 5.3.4小孩和女生优先的约定法则--真的被执行了吗？\n",
    "\n",
    "这个法则是遇到海难时的第一法则，根据铁达尼号的沉船事件，当小孩和女生登上救生船的时候，这一法则的遵循是还是有局限性的。我们可以参考一下[4.5幸存者的舱位与其是否大于21岁的概率](#4.5幸存者的舱位与其是否大于21岁的概率)这张图。\n",
    "\n",
    "可以预见到，男生的成年乘客在每一个等级的舱位的幸存率都比女生和小孩要低，观察图表显示的数据，确实如此。但是[3等舱的小孩幸存率为31%（PClass 3 Survival Child）](#4.5幸存者的舱位与其是否大于21岁的概率),这么低的幸存率比[1等舱的男生幸存率37%还要低（Class 1 Survivality(MALE)）](#4.4幸存者舱位等级及性别的概率)"
   ]
  },
  {
   "cell_type": "markdown",
   "metadata": {},
   "source": [
    "## 5.4舱位等级（乘客在船上位置的统计）对幸存率的影响\n",
    "\n",
    "1等舱位的男生幸存率比3等舱小孩的幸存率要高，这是明显违反了海难的第一准则“女生和小孩优先”。3等舱的小孩在沉船之前，并不能登上救生船。这也可能与3等舱的大部分乘客的幸存率与1等和2等舱的乘客相比显得很低有关系。（参考[4.5幸存者的舱位与其是否大于21岁的概率](#4.5幸存者的舱位与其是否大于21岁的概率)）\n",
    "\n",
    "参考[3.4.2舱位类别的乘客分布](#3.4.2舱位类别的乘客分布),我们可以看到大部分的乘客的乘坐位置是位于甲板B到甲板E，这部分乘客主要是1等和2等舱的乘客。对于3等舱的乘客就很多没有记录。891位乘客中，只有204位乘客的记录，其他的都没有。这204位乘客里，大部分是1等和2等舱的，3等舱的就没有了。"
   ]
  },
  {
   "cell_type": "markdown",
   "metadata": {},
   "source": [
    "## 5.5关于下船地点的乘客分布，他们的舱位等级分布是怎样的\n",
    "\n",
    "城市里自然就有不同的社会经济阶层，因此下船地点一定会对船上的社会经济阶层的人数有影响。（参考[3.5.1下船地点的乘客分布及其舱位等级](#3.5.1下船地点的乘客分布及其舱位等级)） \n",
    "\n",
    "C、Q和S分别是Cherbourg、Queenstown和Southampton, 大部分的乘客来自于Southampton，3等舱的有350人，2等舱的有150人，1等舱的有100人。由此推断Southampton应该是个大城市，船上大部分的乘客都来自这个城市的各个阶层。Queenstown应该是个小地方，只有3等舱的乘客来自于此地。来自于Cherbourg的乘客一般在1等舱和3等舱，由此推断这个地方比较富裕但也有工薪阶层。\n",
    "\n",
    "铁达尼号上的乘客来自不同的地方，乘客的数量只能代表其来自的这个城市的一小部分，这里的分析只是基于这些有限的数据进行的，一定会存在局限性。另外一方面就是铁达尼号上的工作人员，这里面也有一部分人是为了节省旅游的费用，所以才选择在船上工作。\n",
    "\n",
    "Cherbourg虽然是个小地方，来自这里的乘客一般比较富有，但是也有一部分乘客选择在船上工作，借此机会享受工作和旅行的乐趣。Queenstown的多数乘客都是3等舱的，也有一部分是在船上工作的。Southampton的乘客占了大多数，1等舱和2等舱的乘客多是在享受旅行的乐趣，也有一部分是3等舱和在船上工作的工作人员。"
   ]
  },
  {
   "cell_type": "markdown",
   "metadata": {},
   "source": [
    "## 5.6单身旅行和家庭旅行的乘客对幸存率的影响\n",
    "\n",
    "单身旅行和家庭旅行的乘客是影响幸存率的因素之一，家庭乘客在遇到困难的时候，他们之间可以互相帮助，这是单身旅行的乘客无法做到的。先看一下其数据图[3.5.2家庭乘客和单身乘客的分布](#3.5.2家庭乘客和单身乘客的分布), 从这个图里可以看出，家庭乘客的数量也是相当可观的。891位乘客里，有350位乘客是家庭乘客。\n",
    "\n",
    "单身旅行和家庭旅行的乘客的幸存率的影响可以看一下[4.9基于单身和家庭的乘客幸存的概率](#4.9基于单身和家庭的乘客幸存的概率),家庭乘客的幸存率有着显著提升，家庭乘客的幸存率是50%，单身乘客的幸存率只有30%。"
   ]
  },
  {
   "cell_type": "markdown",
   "metadata": {},
   "source": [
    "# 6.建议/验证-统计测试验证调查结果（性别和幸存率）\n",
    "\n",
    "**Source: **https://en.wikipedia.org/wiki/Chi-squared_test\n",
    "\n",
    "统计测试是一种验证结果的方法，而不是简单地进行相关性观察。根据性别，对其幸存率通过卡方检验验证其独立性。卡方检验可以应用于来自单个人口的两个分类变量（两个分类变量 - 男生和女生，单个人口 - 铁达尼号的乘客）\n",
    "\n",
    "根据性别和幸存率之间的独立性，我们可以作出假设：\n",
    "\n",
    "    零假设：   性别和幸存率之间是独立的\n",
    "    \n",
    "    替代假设： 性别和幸存率之间是非独立的\n",
    "    \n",
    "在[3.2乘客性别的概率分布情况](#3.2乘客性别的概率分布情况)下的[3.2.2性别分布情况](#3.2.2性别分布情况),可以继续分析：\n",
    "        结果的格式（总人数，幸存人数，死亡人数）"
   ]
  },
  {
   "cell_type": "code",
   "execution_count": 35,
   "metadata": {},
   "outputs": [
    {
     "name": "stdout",
     "output_type": "stream",
     "text": [
      "Males: \n",
      "(577, 109, 468)\n",
      "\n",
      "Females: \n",
      "(314, 233, 81)\n",
      "\n",
      "Out of the total Passengers on the Titanic: \n",
      "891\n"
     ]
    }
   ],
   "source": [
    "print(\"Males: \")\n",
    "print(menData.count()['Sex'], menData[menData.Survived == 1].count()['Sex'], menData[menData.Survived == 0].count()['Sex'])\n",
    "print(\"\")\n",
    "print(\"Females: \")\n",
    "print(womenData.count()['Sex'], womenData[womenData.Survived == 1].count()['Sex'], womenData[womenData.Survived == 0].count()['Sex'])\n",
    "print(\"\")\n",
    "print(\"Out of the total Passengers on the Titanic: \")\n",
    "print(dTitanic_DF.count()['Sex'])"
   ]
  },
  {
   "cell_type": "markdown",
   "metadata": {},
   "source": [
    "上面已经计算出乘客里男生和女生的人数，包括遇难和幸存的人数。接下来就可以使用“Scipy package”计算卡方检验并验证其独立性和决定\"p-value\"的值。"
   ]
  },
  {
   "cell_type": "code",
   "execution_count": 38,
   "metadata": {},
   "outputs": [
    {
     "name": "stdout",
     "output_type": "stream",
     "text": [
      "[[109 468]\n",
      " [233  81]]\n"
     ]
    },
    {
     "data": {
      "text/plain": [
       "(260.71702016732104,\n",
       " 1.1973570627755645e-58,\n",
       " 1L,\n",
       " array([[ 221.47474747,  355.52525253],\n",
       "        [ 120.52525253,  193.47474747]]))"
      ]
     },
     "execution_count": 38,
     "metadata": {},
     "output_type": "execute_result"
    }
   ],
   "source": [
    "import scipy as sp\n",
    "\n",
    "menSurvived = menData[menData.Survived == 1].count()['Sex']\n",
    "menDied = menData[menData.Survived == 0].count()['Sex\n",
    "                                                 \n",
    "womenSurvived = womenData[womenData.Survived == 1].count()['Sex']\n",
    "womenDied = womenData[womenData.Survived == 0].count()['Sex']\n",
    "                                                 \n",
    "# 卡方检验验证性别和幸存率的独立性\n",
    "men_women_survival = np.array([[menSurvived, menDied],[womenSurvived, womenDied]])\n",
    "print(men_women_survival)\n",
    "                                                 \n",
    "# 卡方的计算\n",
    "sp.stats.chi2_contingency(men_women_survival)"
   ]
  },
  {
   "cell_type": "markdown",
   "metadata": {},
   "source": [
    "把上面的数据整理成表格：\n",
    "\n",
    " |  |幸存|遇难|\n",
    " |---|---|---|\n",
    " |男生|109|468|\n",
    " |女生|233|81|\n",
    " \n",
    " 最后的结果如下：\n",
    " 卡方检验的值： 260.71702016732104\n",
    " \n",
    " p-value的值: 1.1973570627755645e-58\n",
    " \n",
    " 自由度深度的值： 1L\n",
    " \n",
    " 预期的频率：\n",
    " \n",
    " |  |幸存|遇难|\n",
    " |---|---|---|\n",
    " |男生|221.47474747|355.52525253|\n",
    " |女生|120.525252|193.47474747|\n",
    " \n",
    "p-value的值是1.1973570627755645e-58（因为卡方检验的值是260.71702016732104）<0.00001, P-value的值小于0.05，这表明性别和幸存率之间是有关联的。\n",
    "\n",
    "根据这么低的P-value,对第一个假设就是零假设就可以否定了。**第二个假设成立，就是说性别和幸存率是非独立的。**"
   ]
  },
  {
   "cell_type": "markdown",
   "metadata": {
    "collapsed": true
   },
   "source": [
    "# 7.引用资源\n",
    "\n",
    "* [Encyclopedia Titanica - \"Cabins Information\"](http://www.encyclopedia-titanica.org/cabins.html)\n",
    "\n",
    "* [Wikipedia - \"Chi-squared test\"](https://en.wikipedia.org/wiki/Chi-squared_test)\n",
    "\n",
    "* [The South China Morning Post - \"Diagram of Titanic\"](http://www.scmp.com/infographics/article/1633333/infographic-titanic)\n",
    "\n",
    "* [The American and English Encyclopedia of Law, Garland and McGeehee, 1900 - \"Age ofMajority\"]( http://www.jstor.org/stable/844549?seq=1#page_scan_tab_contents)"
   ]
  },
  {
   "cell_type": "markdown",
   "metadata": {},
   "source": []
  },
  {
   "cell_type": "code",
   "execution_count": null,
   "metadata": {
    "collapsed": true
   },
   "outputs": [],
   "source": []
  }
 ],
 "metadata": {
  "kernelspec": {
   "display_name": "Python 2",
   "language": "python",
   "name": "python2"
  },
  "language_info": {
   "codemirror_mode": {
    "name": "ipython",
    "version": 2
   },
   "file_extension": ".py",
   "mimetype": "text/x-python",
   "name": "python",
   "nbconvert_exporter": "python",
   "pygments_lexer": "ipython2",
   "version": "2.7.13"
  }
 },
 "nbformat": 4,
 "nbformat_minor": 2
}
